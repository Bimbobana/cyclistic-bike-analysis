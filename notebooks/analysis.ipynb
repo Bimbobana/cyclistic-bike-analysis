{
 "cells": [
  {
   "cell_type": "code",
   "execution_count": 8,
   "id": "d041e2a1",
   "metadata": {},
   "outputs": [
    {
     "name": "stderr",
     "output_type": "stream",
     "text": [
      "/tmp/ipykernel_5417/3691829284.py:14: DtypeWarning: Columns (0,3,4,5,7,11) have mixed types. Specify dtype option on import or set low_memory=False.\n",
      "  trips_h2 = pd.read_csv(h2_path)\n"
     ]
    },
    {
     "name": "stdout",
     "output_type": "stream",
     "text": [
      "H1 shape: (905699, 12)\n",
      "H2 shape: (1548937, 12)\n",
      "Combined shape: (2454636, 12)\n",
      "Columns: ['trip_id', 'starttime', 'stoptime', 'bikeid', 'tripduration', 'from_station_id', 'from_station_name', 'to_station_id', 'to_station_name', 'usertype', 'gender', 'birthyear']\n"
     ]
    }
   ],
   "source": [
    "import os\n",
    "import pandas as pd\n",
    "\n",
    "# Helper: build paths relative to the repo root\n",
    "def repo_path(*parts):\n",
    "    return os.path.abspath(os.path.join(\"..\", *parts))\n",
    "\n",
    "# --- Load H1 data (Q1 & Q2) ---\n",
    "h1_path = repo_path(\"data\", \"raw\", \"2014\", \"H1\", \"Divvy_Trips_2014_Q1Q2.csv\")\n",
    "trips_h1 = pd.read_csv(h1_path)\n",
    "\n",
    "# --- Load H2 data (Q3 & Q4, combined file) ---\n",
    "h2_path = repo_path(\"data\", \"raw\", \"2014\", \"H2\", \"Divvy_Trips_2014_H2.csv\")\n",
    "trips_h2 = pd.read_csv(h2_path)\n",
    "\n",
    "# --- Combine H1 and H2 ---\n",
    "trips_2014 = pd.concat([trips_h1, trips_h2], ignore_index=True)\n",
    "\n",
    "# --- Quick check ---\n",
    "print(\"H1 shape:\", trips_h1.shape)\n",
    "print(\"H2 shape:\", trips_h2.shape)\n",
    "print(\"Combined shape:\", trips_2014.shape)\n",
    "print(\"Columns:\", trips_2014.columns.tolist())"
   ]
  }
 ],
 "metadata": {
  "kernelspec": {
   "display_name": "venv",
   "language": "python",
   "name": "python3"
  },
  "language_info": {
   "codemirror_mode": {
    "name": "ipython",
    "version": 3
   },
   "file_extension": ".py",
   "mimetype": "text/x-python",
   "name": "python",
   "nbconvert_exporter": "python",
   "pygments_lexer": "ipython3",
   "version": "3.12.3"
  }
 },
 "nbformat": 4,
 "nbformat_minor": 5
}
